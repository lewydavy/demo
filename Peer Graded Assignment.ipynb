{
  "metadata": {
    "language_info": {
      "codemirror_mode": {
        "name": "python",
        "version": 3
      },
      "file_extension": ".py",
      "mimetype": "text/x-python",
      "name": "python",
      "nbconvert_exporter": "python",
      "pygments_lexer": "ipython3",
      "version": "3.8"
    },
    "kernelspec": {
      "name": "python",
      "display_name": "Python (Pyodide)",
      "language": "python"
    }
  },
  "nbformat_minor": 4,
  "nbformat": 4,
  "cells": [
    {
      "cell_type": "markdown",
      "source": "<h1>My Jupyter Notebook on IBM Watson Studio",
      "metadata": {}
    },
    {
      "cell_type": "markdown",
      "source": "<b>Lewis Davis\nData Model Analyst",
      "metadata": {}
    },
    {
      "cell_type": "markdown",
      "source": "<h3> My code is to assign the letter 'a' as a list for the numbers '1, 2, 3'.",
      "metadata": {}
    },
    {
      "cell_type": "code",
      "source": "a = [1, 2, 3]",
      "metadata": {
        "trusted": true
      },
      "execution_count": 8,
      "outputs": []
    },
    {
      "cell_type": "markdown",
      "source": "---\n<b>List:\n1. Main list 1\n2. Main list 2\n   - Sub list 2-1\n   - Sub list 2-2\n3. Main list 3\n\n---\n    \n<b>Hyperlink:\n    [Google](https://www.google.com)\n\n---\n    \n<b><center>Table:\nId | Name      | Description \n--|:---------:|:-----------:\n1|John      | Person  \n2|Chris   | Person\n    \n---",
      "metadata": {}
    }
  ]
}